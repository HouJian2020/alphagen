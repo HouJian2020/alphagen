{
 "cells": [
  {
   "cell_type": "code",
   "execution_count": 1,
   "id": "483e3c95-750f-465c-85bf-80545d44ff31",
   "metadata": {
    "execution": {
     "iopub.execute_input": "2024-03-26T03:36:24.649712Z",
     "iopub.status.busy": "2024-03-26T03:36:24.649585Z",
     "iopub.status.idle": "2024-03-26T03:36:24.658251Z",
     "shell.execute_reply": "2024-03-26T03:36:24.657743Z",
     "shell.execute_reply.started": "2024-03-26T03:36:24.649700Z"
    }
   },
   "outputs": [],
   "source": [
    "%load_ext tensorboard"
   ]
  },
  {
   "cell_type": "code",
   "execution_count": 16,
   "id": "17651738-5993-4037-879f-917c3f131a5a",
   "metadata": {
    "execution": {
     "iopub.execute_input": "2024-03-26T03:37:18.619952Z",
     "iopub.status.busy": "2024-03-26T03:37:18.619181Z",
     "iopub.status.idle": "2024-03-26T03:37:18.625015Z",
     "shell.execute_reply": "2024-03-26T03:37:18.623770Z",
     "shell.execute_reply.started": "2024-03-26T03:37:18.619924Z"
    }
   },
   "outputs": [],
   "source": [
    "import os\n",
    "import json\n",
    "import numpy as np\n",
    "import pandas as pd\n",
    "\n",
    "from alphagen.data.expression import *\n",
    "from alphagen_generic.features import *\n",
    "from alphagen_qlib.stock_data import StockData\n",
    "from alphagen_qlib.calculator import  QLibStockDataCalculator"
   ]
  },
  {
   "cell_type": "markdown",
   "id": "c1a76c63-b34a-4c93-8c57-758ac077fb6c",
   "metadata": {},
   "source": [
    "# 超参数"
   ]
  },
  {
   "cell_type": "code",
   "execution_count": 3,
   "id": "c2cc7b8e-1145-49a2-931a-d29db6125805",
   "metadata": {
    "execution": {
     "iopub.execute_input": "2024-03-26T03:36:25.806866Z",
     "iopub.status.busy": "2024-03-26T03:36:25.806650Z",
     "iopub.status.idle": "2024-03-26T03:36:38.334665Z",
     "shell.execute_reply": "2024-03-26T03:36:38.334052Z",
     "shell.execute_reply.started": "2024-03-26T03:36:25.806852Z"
    }
   },
   "outputs": [],
   "source": [
    "trial_name = 'new_csi300_10_0_20240325232754'\n",
    "data = StockData(instrument=\"csi300\", start_time=\"2018-01-01\", end_time=\"2024-12-31\")"
   ]
  },
  {
   "cell_type": "code",
   "execution_count": 4,
   "id": "95842be7-978b-43a5-8105-5ebc985eee91",
   "metadata": {
    "execution": {
     "iopub.execute_input": "2024-03-26T03:36:38.335845Z",
     "iopub.status.busy": "2024-03-26T03:36:38.335363Z",
     "iopub.status.idle": "2024-03-26T03:36:38.421230Z",
     "shell.execute_reply": "2024-03-26T03:36:38.420440Z",
     "shell.execute_reply.started": "2024-03-26T03:36:38.335831Z"
    }
   },
   "outputs": [],
   "source": [
    "calculator = QLibStockDataCalculator(data, target)"
   ]
  },
  {
   "cell_type": "code",
   "execution_count": 5,
   "id": "12d050cc-a8df-4eae-b783-0aa0347c96c1",
   "metadata": {
    "execution": {
     "iopub.execute_input": "2024-03-26T03:36:38.422064Z",
     "iopub.status.busy": "2024-03-26T03:36:38.421874Z",
     "iopub.status.idle": "2024-03-26T03:36:38.425350Z",
     "shell.execute_reply": "2024-03-26T03:36:38.424666Z",
     "shell.execute_reply.started": "2024-03-26T03:36:38.422051Z"
    }
   },
   "outputs": [],
   "source": [
    "checkpoints_path = os.path.expanduser('~/.project_results/alphagen/checkpoints')\n",
    "trail_checkpoints_path = os.path.join(checkpoints_path, trial_name)\n",
    "# os.listdir(trail_checkpoints_path)"
   ]
  },
  {
   "cell_type": "code",
   "execution_count": 6,
   "id": "b1400f57-0cf1-4fc6-bfca-7fdb34d3eeb9",
   "metadata": {
    "execution": {
     "iopub.execute_input": "2024-03-26T03:36:38.426344Z",
     "iopub.status.busy": "2024-03-26T03:36:38.426064Z",
     "iopub.status.idle": "2024-03-26T03:36:38.443544Z",
     "shell.execute_reply": "2024-03-26T03:36:38.442974Z",
     "shell.execute_reply.started": "2024-03-26T03:36:38.426332Z"
    }
   },
   "outputs": [],
   "source": [
    "def get_raw_pool(file_name='200704_steps_pool.json'):\n",
    "# 打开 JSON 文件\n",
    "    with open(os.path.join(trail_checkpoints_path, file_name), 'r', encoding='utf-8') as file:\n",
    "        # 从文件中加载 JSON 数据并将其转换为字典\n",
    "        raw = json.load(file)\n",
    "    return raw\n",
    "    \n",
    "    # 现在变量 `data` 将包含文件中的 JSON 数据，以字典的形式存储\n",
    "def load_alpha_pool(raw):\n",
    "    exprs_raw = raw['exprs']\n",
    "    exprs = [eval(expr_raw.replace('$open', 'open_').replace('$', '')) for expr_raw in exprs_raw]\n",
    "    weights = raw['weights']\n",
    "    return exprs, weights\n",
    "\n",
    "def get_pool(file_name='200704_steps_pool.json'):\n",
    "    raw = get_raw_pool(file_name=file_name)\n",
    "    return load_alpha_pool(raw)"
   ]
  },
  {
   "cell_type": "markdown",
   "id": "c10fbffc-d19d-4988-b2c9-e14835f622fa",
   "metadata": {},
   "source": [
    "# 计算因子IC"
   ]
  },
  {
   "cell_type": "code",
   "execution_count": 17,
   "id": "8fe0fd66-d41d-4832-92fb-cc8f38cdd1b5",
   "metadata": {
    "execution": {
     "iopub.execute_input": "2024-03-26T03:37:43.440679Z",
     "iopub.status.busy": "2024-03-26T03:37:43.440059Z",
     "iopub.status.idle": "2024-03-26T03:37:43.447858Z",
     "shell.execute_reply": "2024-03-26T03:37:43.446735Z",
     "shell.execute_reply.started": "2024-03-26T03:37:43.440651Z"
    }
   },
   "outputs": [
    {
     "data": {
      "text/plain": [
       "(Add(Sub(Add(Mul(Constant(-10.0),Mean($vwap,30)),Constant(2.0)),Constant(-5.0)),Log(Sub($volume,$open))),\n",
       " Sub(Constant(-10.0),Sub(Greater($vwap,Constant(-30.0)),Max(Max($close,40),50))))"
      ]
     },
     "execution_count": 17,
     "metadata": {},
     "output_type": "execute_result"
    }
   ],
   "source": [
    "exprs, weights = get_pool(f'{200704}_steps_pool.json')\n",
    "exprs[0], exprs[1]"
   ]
  },
  {
   "cell_type": "code",
   "execution_count": 18,
   "id": "6ba3a57a-2960-4953-b953-17e26d396667",
   "metadata": {
    "execution": {
     "iopub.execute_input": "2024-03-26T03:37:43.868496Z",
     "iopub.status.busy": "2024-03-26T03:37:43.868115Z",
     "iopub.status.idle": "2024-03-26T03:37:45.175595Z",
     "shell.execute_reply": "2024-03-26T03:37:45.174911Z",
     "shell.execute_reply.started": "2024-03-26T03:37:43.868476Z"
    }
   },
   "outputs": [
    {
     "name": "stdout",
     "output_type": "stream",
     "text": [
      "0.012374963611364365 0.05047385022044182 -1.0\n",
      "-0.007816559635102749 -0.035924457013607025 -1.0\n",
      "0.0063320668414235115 0.02164994180202484 -1.0\n",
      "0.005904214456677437 -0.006866473238915205 -1.0\n",
      "0.008095134980976582 0.02268420159816742 1.0\n",
      "0.007540418766438961 0.05451517924666405 1.0\n",
      "-0.0070973727852106094 -0.03654821589589119 -1.0\n",
      "-2.276037776027806e-05 0.00920805148780346 -1.0\n",
      "0.018954874947667122 0.041751328855752945 -1.0\n",
      "0.017831925302743912 0.02128324843943119 -1.0\n"
     ]
    }
   ],
   "source": [
    "for expr, weight in zip(exprs, weights):\n",
    "    ic, rankic = calculator.calc_single_all_ret(expr)\n",
    "    sign = weight/abs(weight)\n",
    "    print(ic*sign, rankic*sign, sign)"
   ]
  },
  {
   "cell_type": "code",
   "execution_count": 19,
   "id": "31688ccf-2acc-42c2-bc31-709beed897ab",
   "metadata": {
    "execution": {
     "iopub.execute_input": "2024-03-26T03:37:45.176895Z",
     "iopub.status.busy": "2024-03-26T03:37:45.176599Z",
     "iopub.status.idle": "2024-03-26T03:37:45.296044Z",
     "shell.execute_reply": "2024-03-26T03:37:45.295498Z",
     "shell.execute_reply.started": "2024-03-26T03:37:45.176883Z"
    },
    "scrolled": true
   },
   "outputs": [
    {
     "data": {
      "text/plain": [
       "(0.028886310756206512, 0.05535726994276047)"
      ]
     },
     "execution_count": 19,
     "metadata": {},
     "output_type": "execute_result"
    }
   ],
   "source": [
    "calculator.calc_pool_all_ret(exprs, weights)"
   ]
  },
  {
   "cell_type": "markdown",
   "id": "7ebe0c84-1db2-4e3e-a515-f4514f622211",
   "metadata": {},
   "source": [
    "# IC曲线，累计收益曲线"
   ]
  },
  {
   "cell_type": "code",
   "execution_count": 20,
   "id": "dec054f1-98f0-4560-badc-ca87953902f8",
   "metadata": {
    "execution": {
     "iopub.execute_input": "2024-03-26T03:37:49.356804Z",
     "iopub.status.busy": "2024-03-26T03:37:49.356531Z",
     "iopub.status.idle": "2024-03-26T03:37:49.360235Z",
     "shell.execute_reply": "2024-03-26T03:37:49.359662Z",
     "shell.execute_reply.started": "2024-03-26T03:37:49.356791Z"
    }
   },
   "outputs": [],
   "source": [
    "# 计算相关系数\n",
    "def calculate_ic(tensor1, tensor2):\n",
    "    # 计算每行的相关系数\n",
    "    row_ic = np.array([np.corrcoef(row1, row2)[0, 1] for row1, row2 in zip(tensor1, tensor2)])\n",
    "    return row_ic"
   ]
  },
  {
   "cell_type": "code",
   "execution_count": 21,
   "id": "8613f86f-df63-4e89-84dd-01d6f4e8c660",
   "metadata": {
    "execution": {
     "iopub.execute_input": "2024-03-26T03:37:49.918776Z",
     "iopub.status.busy": "2024-03-26T03:37:49.918124Z",
     "iopub.status.idle": "2024-03-26T03:37:49.927769Z",
     "shell.execute_reply": "2024-03-26T03:37:49.927145Z",
     "shell.execute_reply.started": "2024-03-26T03:37:49.918759Z"
    }
   },
   "outputs": [],
   "source": [
    "factor = calculator.make_ensemble_alpha(exprs, weights)"
   ]
  },
  {
   "cell_type": "code",
   "execution_count": 22,
   "id": "d20f42b3-b5c7-4e93-836f-0847a880f48c",
   "metadata": {
    "execution": {
     "iopub.execute_input": "2024-03-26T03:37:50.607922Z",
     "iopub.status.busy": "2024-03-26T03:37:50.607602Z",
     "iopub.status.idle": "2024-03-26T03:37:50.610648Z",
     "shell.execute_reply": "2024-03-26T03:37:50.610103Z",
     "shell.execute_reply.started": "2024-03-26T03:37:50.607908Z"
    }
   },
   "outputs": [],
   "source": [
    "target_value = calculator.target_value"
   ]
  },
  {
   "cell_type": "code",
   "execution_count": 23,
   "id": "9b5fbbec-763e-4cb1-89e1-e184b57200d1",
   "metadata": {
    "execution": {
     "iopub.execute_input": "2024-03-26T03:37:51.209737Z",
     "iopub.status.busy": "2024-03-26T03:37:51.209420Z",
     "iopub.status.idle": "2024-03-26T03:37:51.580197Z",
     "shell.execute_reply": "2024-03-26T03:37:51.579544Z",
     "shell.execute_reply.started": "2024-03-26T03:37:51.209724Z"
    }
   },
   "outputs": [
    {
     "data": {
      "text/plain": [
       "<Axes: >"
      ]
     },
     "execution_count": 23,
     "metadata": {},
     "output_type": "execute_result"
    },
    {
     "data": {
      "image/png": "[encoded data removed]",
      "text/plain": [
       "<Figure size 640x480 with 1 Axes>"
      ]
     },
     "metadata": {},
     "output_type": "display_data"
    }
   ],
   "source": [
    "# 计算两个张量的IC\n",
    "ic_result = calculate_ic(factor.cpu().numpy(), target_value.cpu().numpy())\n",
    "pd.Series(ic_result).cumsum().plot()"
   ]
  },
  {
   "cell_type": "code",
   "execution_count": 25,
   "id": "455052ca-e8ec-4d46-9bb1-63f09d76fee3",
   "metadata": {
    "execution": {
     "iopub.execute_input": "2024-03-26T03:37:55.148116Z",
     "iopub.status.busy": "2024-03-26T03:37:55.147771Z",
     "iopub.status.idle": "2024-03-26T03:37:55.151889Z",
     "shell.execute_reply": "2024-03-26T03:37:55.151288Z",
     "shell.execute_reply.started": "2024-03-26T03:37:55.148101Z"
    }
   },
   "outputs": [],
   "source": [
    "def top_pct_mean(score, pct):\n",
    "    # 选择打分最高的n个标的计算收益率的均值\n",
    "    # probs = nn.functional.softmax(score, dim=1)\n",
    "    # score = probs[:, 1]\n",
    "    top_num = int(len(score) * 0.2)\n",
    "    id_col = torch.topk(score, k=top_num, dim=-1)[1]\n",
    "    id_row = torch.arange(0, score.shape[0]).tile(top_num,1).T\n",
    "    return pct[id_row, id_col].mean(dim=-1).cpu().numpy()"
   ]
  },
  {
   "cell_type": "code",
   "execution_count": 26,
   "id": "ad4a67bf-0e17-445f-9836-aaf57c0bcb0e",
   "metadata": {
    "execution": {
     "iopub.execute_input": "2024-03-26T03:37:56.235547Z",
     "iopub.status.busy": "2024-03-26T03:37:56.235152Z",
     "iopub.status.idle": "2024-03-26T03:37:56.259364Z",
     "shell.execute_reply": "2024-03-26T03:37:56.258804Z",
     "shell.execute_reply.started": "2024-03-26T03:37:56.235533Z"
    }
   },
   "outputs": [],
   "source": [
    "ret = top_pct_mean(factor, target_value)"
   ]
  },
  {
   "cell_type": "code",
   "execution_count": 27,
   "id": "ee377565-84c4-4ec0-b0d5-aaa749dea48b",
   "metadata": {
    "execution": {
     "iopub.execute_input": "2024-03-26T03:37:57.257864Z",
     "iopub.status.busy": "2024-03-26T03:37:57.257349Z",
     "iopub.status.idle": "2024-03-26T03:37:57.366515Z",
     "shell.execute_reply": "2024-03-26T03:37:57.365854Z",
     "shell.execute_reply.started": "2024-03-26T03:37:57.257841Z"
    }
   },
   "outputs": [
    {
     "data": {
      "text/plain": [
       "<Axes: >"
      ]
     },
     "execution_count": 27,
     "metadata": {},
     "output_type": "execute_result"
    },
    {
     "data": {
      "image/png": "[encoded data removed]",
      "text/plain": [
       "<Figure size 640x480 with 1 Axes>"
      ]
     },
     "metadata": {},
     "output_type": "display_data"
    }
   ],
   "source": [
    "pd.Series(ret).cumsum().plot()"
   ]
  },
  {
   "cell_type": "markdown",
   "id": "cde07506-126b-4670-b1ca-11e4f9aa12b5",
   "metadata": {
    "execution": {
     "iopub.execute_input": "2024-03-26T02:32:39.543473Z",
     "iopub.status.busy": "2024-03-26T02:32:39.542876Z",
     "iopub.status.idle": "2024-03-26T02:32:39.560620Z",
     "shell.execute_reply": "2024-03-26T02:32:39.559869Z",
     "shell.execute_reply.started": "2024-03-26T02:32:39.543447Z"
    }
   },
   "source": [
    "# validation的作用"
   ]
  },
  {
   "cell_type": "markdown",
   "id": "75d9d77b-3fce-4417-9be3-8deeffbc093a",
   "metadata": {},
   "source": [
    "# tensorboard"
   ]
  },
  {
   "cell_type": "code",
   "execution_count": 28,
   "id": "a0b7dc9e-1bfc-4f95-aab8-9753ca69cadc",
   "metadata": {
    "execution": {
     "iopub.execute_input": "2024-03-26T03:38:02.403151Z",
     "iopub.status.busy": "2024-03-26T03:38:02.402509Z",
     "iopub.status.idle": "2024-03-26T03:38:03.430860Z",
     "shell.execute_reply": "2024-03-26T03:38:03.430079Z",
     "shell.execute_reply.started": "2024-03-26T03:38:02.403123Z"
    }
   },
   "outputs": [
    {
     "data": {
      "text/html": [
       "\n",
       "      <iframe id=\"tensorboard-frame-6674af39cf248397\" width=\"100%\" height=\"800\" frameborder=\"0\">\n",
       "      </iframe>\n",
       "      <script>\n",
       "        (function() {\n",
       "          const frame = document.getElementById(\"tensorboard-frame-6674af39cf248397\");\n",
       "          const url = new URL(\"/\", window.location);\n",
       "          const port = 6006;\n",
       "          if (port) {\n",
       "            url.port = port;\n",
       "          }\n",
       "          frame.src = url;\n",
       "        })();\n",
       "      </script>\n",
       "    "
      ],
      "text/plain": [
       "<IPython.core.display.HTML object>"
      ]
     },
     "metadata": {},
     "output_type": "display_data"
    }
   ],
   "source": [
    "log_dir_path = os.path.expanduser('~/.project_results/alphagen/tb_log')\n",
    "%tensorboard --logdir $log_dir_path"
   ]
  },
  {
   "cell_type": "code",
   "execution_count": 29,
   "id": "535f673c-5242-4daf-b8a7-7cbf283f2a8c",
   "metadata": {
    "execution": {
     "iopub.execute_input": "2024-03-26T03:38:03.453254Z",
     "iopub.status.busy": "2024-03-26T03:38:03.453053Z",
     "iopub.status.idle": "2024-03-26T03:38:15.440631Z",
     "shell.execute_reply": "2024-03-26T03:38:15.439729Z",
     "shell.execute_reply.started": "2024-03-26T03:38:03.453237Z"
    }
   },
   "outputs": [
    {
     "data": {
      "text/plain": [
       "<Axes: xlabel='index'>"
      ]
     },
     "execution_count": 29,
     "metadata": {},
     "output_type": "execute_result"
    },
    {
     "data": {
      "image/png": "[encoded data removed]",
      "text/plain": [
       "<Figure size 640x480 with 1 Axes>"
      ]
     },
     "metadata": {},
     "output_type": "display_data"
    }
   ],
   "source": [
    "import pandas as pd\n",
    "res = []\n",
    "for file_name in os.listdir(trail_checkpoints_path): \n",
    "    if file_name.endswith('.json'):\n",
    "        params= {}\n",
    "        params['index'] = int(file_name.split('_')[0])\n",
    "        exprs, weights = get_pool(file_name)\n",
    "        params['ic'], params['rankic'] = calculator.calc_pool_all_ret(exprs, weights)\n",
    "        res.append(params)\n",
    "res = pd.DataFrame(res)\n",
    "res.set_index('index', inplace=True)\n",
    "res.sort_index(inplace=True)\n",
    "res.plot()       "
   ]
  }
 ],
 "metadata": {
  "kernelspec": {
   "display_name": "qlib",
   "language": "python",
   "name": "qlib"
  },
  "language_info": {
   "codemirror_mode": {
    "name": "ipython",
    "version": 3
   },
   "file_extension": ".py",
   "mimetype": "text/x-python",
   "name": "python",
   "nbconvert_exporter": "python",
   "pygments_lexer": "ipython3",
   "version": "3.8.19"
  }
 },
 "nbformat": 4,
 "nbformat_minor": 5
}
