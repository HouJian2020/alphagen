{
 "cells": [
  {
   "cell_type": "code",
   "execution_count": 1,
   "id": "483e3c95-750f-465c-85bf-80545d44ff31",
   "metadata": {
    "execution": {
     "iopub.execute_input": "2024-03-27T08:45:20.394743Z",
     "iopub.status.busy": "2024-03-27T08:45:20.394575Z",
     "iopub.status.idle": "2024-03-27T08:45:20.405907Z",
     "shell.execute_reply": "2024-03-27T08:45:20.405366Z",
     "shell.execute_reply.started": "2024-03-27T08:45:20.394729Z"
    }
   },
   "outputs": [],
   "source": [
    "%load_ext tensorboard"
   ]
  },
  {
   "cell_type": "code",
   "execution_count": 19,
   "id": "17651738-5993-4037-879f-917c3f131a5a",
   "metadata": {
    "execution": {
     "iopub.execute_input": "2024-03-27T08:53:02.266466Z",
     "iopub.status.busy": "2024-03-27T08:53:02.266156Z",
     "iopub.status.idle": "2024-03-27T08:53:02.269488Z",
     "shell.execute_reply": "2024-03-27T08:53:02.268961Z",
     "shell.execute_reply.started": "2024-03-27T08:53:02.266453Z"
    }
   },
   "outputs": [],
   "source": [
    "import os\n",
    "import json\n",
    "import numpy as np\n",
    "import pandas as pd\n",
    "\n",
    "from alphagen.data.expression import *\n",
    "from alphagen_generic.features import *\n",
    "from alphagen_qlib.stock_data import StockData\n",
    "from alphagen_qlib.calculator import  QLibStockDataCalculator\n",
    "from utils.tools import parse_formula"
   ]
  },
  {
   "cell_type": "markdown",
   "id": "c1a76c63-b34a-4c93-8c57-758ac077fb6c",
   "metadata": {},
   "source": [
    "# 超参数"
   ]
  },
  {
   "cell_type": "code",
   "execution_count": 3,
   "id": "c2cc7b8e-1145-49a2-931a-d29db6125805",
   "metadata": {
    "execution": {
     "iopub.execute_input": "2024-03-27T08:45:21.518799Z",
     "iopub.status.busy": "2024-03-27T08:45:21.518545Z",
     "iopub.status.idle": "2024-03-27T08:45:33.004020Z",
     "shell.execute_reply": "2024-03-27T08:45:33.003387Z",
     "shell.execute_reply.started": "2024-03-27T08:45:21.518788Z"
    }
   },
   "outputs": [],
   "source": [
    "trial_name = 'new_csi500_22_0_20240327110009'\n",
    "data = StockData(instrument=\"csi500\", start_time=\"2022-01-01\", end_time=\"2024-12-31\")"
   ]
  },
  {
   "cell_type": "code",
   "execution_count": 4,
   "id": "95842be7-978b-43a5-8105-5ebc985eee91",
   "metadata": {
    "execution": {
     "iopub.execute_input": "2024-03-27T08:45:33.004858Z",
     "iopub.status.busy": "2024-03-27T08:45:33.004690Z",
     "iopub.status.idle": "2024-03-27T08:45:33.085011Z",
     "shell.execute_reply": "2024-03-27T08:45:33.084452Z",
     "shell.execute_reply.started": "2024-03-27T08:45:33.004846Z"
    }
   },
   "outputs": [],
   "source": [
    "calculator = QLibStockDataCalculator(data, target)"
   ]
  },
  {
   "cell_type": "code",
   "execution_count": 5,
   "id": "12d050cc-a8df-4eae-b783-0aa0347c96c1",
   "metadata": {
    "execution": {
     "iopub.execute_input": "2024-03-27T08:45:33.085849Z",
     "iopub.status.busy": "2024-03-27T08:45:33.085641Z",
     "iopub.status.idle": "2024-03-27T08:45:33.088722Z",
     "shell.execute_reply": "2024-03-27T08:45:33.088031Z",
     "shell.execute_reply.started": "2024-03-27T08:45:33.085837Z"
    }
   },
   "outputs": [],
   "source": [
    "checkpoints_path = os.path.expanduser('~/.project_results/alphagen/checkpoints')\n",
    "trail_checkpoints_path = os.path.join(checkpoints_path, trial_name)\n",
    "# os.listdir(trail_checkpoints_path)"
   ]
  },
  {
   "cell_type": "code",
   "execution_count": 6,
   "id": "b1400f57-0cf1-4fc6-bfca-7fdb34d3eeb9",
   "metadata": {
    "execution": {
     "iopub.execute_input": "2024-03-27T08:45:33.089834Z",
     "iopub.status.busy": "2024-03-27T08:45:33.089462Z",
     "iopub.status.idle": "2024-03-27T08:45:33.107731Z",
     "shell.execute_reply": "2024-03-27T08:45:33.106967Z",
     "shell.execute_reply.started": "2024-03-27T08:45:33.089816Z"
    }
   },
   "outputs": [],
   "source": [
    "def get_raw_pool(file_name='200704_steps_pool.json'):\n",
    "# 打开 JSON 文件\n",
    "    with open(os.path.join(trail_checkpoints_path, file_name), 'r', encoding='utf-8') as file:\n",
    "        # 从文件中加载 JSON 数据并将其转换为字典\n",
    "        raw = json.load(file)\n",
    "    return raw\n",
    "    \n",
    "    # 现在变量 `data` 将包含文件中的 JSON 数据，以字典的形式存储\n",
    "def load_alpha_pool(raw):\n",
    "    exprs_raw = raw['exprs']\n",
    "    exprs = [eval(expr_raw.replace('$open', 'open_').replace('$', '')) for expr_raw in exprs_raw]\n",
    "    weights = raw['weights']\n",
    "    return exprs, weights\n",
    "\n",
    "def get_pool(file_name='200704_steps_pool.json'):\n",
    "    raw = get_raw_pool(file_name=file_name)\n",
    "    return load_alpha_pool(raw)"
   ]
  },
  {
   "cell_type": "markdown",
   "id": "c10fbffc-d19d-4988-b2c9-e14835f622fa",
   "metadata": {},
   "source": [
    "# 计算因子IC"
   ]
  },
  {
   "cell_type": "code",
   "execution_count": 23,
   "id": "8fe0fd66-d41d-4832-92fb-cc8f38cdd1b5",
   "metadata": {
    "execution": {
     "iopub.execute_input": "2024-03-27T08:54:34.061442Z",
     "iopub.status.busy": "2024-03-27T08:54:34.061106Z",
     "iopub.status.idle": "2024-03-27T08:54:34.066413Z",
     "shell.execute_reply": "2024-03-27T08:54:34.065871Z",
     "shell.execute_reply.started": "2024-03-27T08:54:34.061424Z"
    }
   },
   "outputs": [
    {
     "data": {
      "text/plain": [
       "(Mad(Sub(Constant(10.0),Div($high,Div($close,Constant(-5.0)))),40),\n",
       " Add(Constant(0.01),Corr(Div(Corr($open,$open,30),Constant(-0.5)),Log(Add($high,Constant(2.0))),20)))"
      ]
     },
     "execution_count": 23,
     "metadata": {},
     "output_type": "execute_result"
    }
   ],
   "source": [
    "exprs, weights = get_pool(f'{200704}_steps_pool.json')\n",
    "exprs[0], exprs[1]"
   ]
  },
  {
   "cell_type": "code",
   "execution_count": 27,
   "id": "aa286ac0-afbc-4226-8fd6-c4c1a02a8d04",
   "metadata": {
    "execution": {
     "iopub.execute_input": "2024-03-27T08:55:47.171840Z",
     "iopub.status.busy": "2024-03-27T08:55:47.171396Z",
     "iopub.status.idle": "2024-03-27T08:55:47.196387Z",
     "shell.execute_reply": "2024-03-27T08:55:47.195673Z",
     "shell.execute_reply.started": "2024-03-27T08:55:47.171821Z"
    }
   },
   "outputs": [
    {
     "data": {
      "image/svg+xml": [
       "<?xml version=\"1.0\" encoding=\"UTF-8\" standalone=\"no\"?>\n",
       "<!DOCTYPE svg PUBLIC \"-//W3C//DTD SVG 1.1//EN\"\n",
       " \"http://www.w3.org/Graphics/SVG/1.1/DTD/svg11.dtd\">\n",
       "<!-- Generated by graphviz version 2.43.0 (0)\n",
       " -->\n",
       "<!-- Title: %3 Pages: 1 -->\n",
       "<svg width=\"192pt\" height=\"260pt\"\n",
       " viewBox=\"0.00 0.00 192.29 260.00\" xmlns=\"http://www.w3.org/2000/svg\" xmlns:xlink=\"http://www.w3.org/1999/xlink\">\n",
       "<g id=\"graph0\" class=\"graph\" transform=\"scale(1 1) rotate(0) translate(4 256)\">\n",
       "<title>%3</title>\n",
       "<polygon fill=\"white\" stroke=\"transparent\" points=\"-4,4 -4,-256 188.29,-256 188.29,4 -4,4\"/>\n",
       "<!-- node_id 0 -->\n",
       "<g id=\"node1\" class=\"node\">\n",
       "<title>node_id 0</title>\n",
       "<ellipse fill=\"#136ed4\" stroke=\"black\" cx=\"109.2\" cy=\"-234\" rx=\"28.7\" ry=\"18\"/>\n",
       "<text text-anchor=\"middle\" x=\"109.2\" y=\"-230.3\" font-family=\"Times,serif\" font-size=\"14.00\">Mul</text>\n",
       "</g>\n",
       "<!-- node_id 1 -->\n",
       "<g id=\"node2\" class=\"node\">\n",
       "<title>node_id 1</title>\n",
       "<ellipse fill=\"#136ed4\" stroke=\"black\" cx=\"69.2\" cy=\"-162\" rx=\"27\" ry=\"18\"/>\n",
       "<text text-anchor=\"middle\" x=\"69.2\" y=\"-158.3\" font-family=\"Times,serif\" font-size=\"14.00\">Div</text>\n",
       "</g>\n",
       "<!-- node_id 0&#45;&gt;node_id 1 -->\n",
       "<g id=\"edge1\" class=\"edge\">\n",
       "<title>node_id 0&#45;&gt;node_id 1</title>\n",
       "<path fill=\"none\" stroke=\"black\" d=\"M99.92,-216.76C95.02,-208.19 88.91,-197.49 83.43,-187.9\"/>\n",
       "<polygon fill=\"black\" stroke=\"black\" points=\"86.42,-186.09 78.42,-179.15 80.35,-189.57 86.42,-186.09\"/>\n",
       "</g>\n",
       "<!-- node_id 6 -->\n",
       "<g id=\"node7\" class=\"node\">\n",
       "<title>node_id 6</title>\n",
       "<ellipse fill=\"lightblue\" stroke=\"black\" cx=\"149.2\" cy=\"-162\" rx=\"35.19\" ry=\"18\"/>\n",
       "<text text-anchor=\"middle\" x=\"149.2\" y=\"-158.3\" font-family=\"Times,serif\" font-size=\"14.00\">vwap</text>\n",
       "</g>\n",
       "<!-- node_id 0&#45;&gt;node_id 6 -->\n",
       "<g id=\"edge6\" class=\"edge\">\n",
       "<title>node_id 0&#45;&gt;node_id 6</title>\n",
       "<path fill=\"none\" stroke=\"black\" d=\"M118.47,-216.76C123.25,-208.4 129.19,-198.02 134.57,-188.61\"/>\n",
       "<polygon fill=\"black\" stroke=\"black\" points=\"137.77,-190.05 139.69,-179.63 131.69,-186.58 137.77,-190.05\"/>\n",
       "</g>\n",
       "<!-- node_id 2 -->\n",
       "<g id=\"node3\" class=\"node\">\n",
       "<title>node_id 2</title>\n",
       "<ellipse fill=\"lightblue\" stroke=\"black\" cx=\"31.2\" cy=\"-90\" rx=\"31.4\" ry=\"18\"/>\n",
       "<text text-anchor=\"middle\" x=\"31.2\" y=\"-86.3\" font-family=\"Times,serif\" font-size=\"14.00\">10.0</text>\n",
       "</g>\n",
       "<!-- node_id 1&#45;&gt;node_id 2 -->\n",
       "<g id=\"edge2\" class=\"edge\">\n",
       "<title>node_id 1&#45;&gt;node_id 2</title>\n",
       "<path fill=\"none\" stroke=\"black\" d=\"M60.38,-144.76C55.85,-136.4 50.21,-126.02 45.1,-116.61\"/>\n",
       "<polygon fill=\"black\" stroke=\"black\" points=\"48.07,-114.75 40.23,-107.63 41.92,-118.09 48.07,-114.75\"/>\n",
       "</g>\n",
       "<!-- node_id 3 -->\n",
       "<g id=\"node4\" class=\"node\">\n",
       "<title>node_id 3</title>\n",
       "<ellipse fill=\"#136ed4\" stroke=\"black\" cx=\"107.2\" cy=\"-90\" rx=\"27\" ry=\"18\"/>\n",
       "<text text-anchor=\"middle\" x=\"107.2\" y=\"-86.3\" font-family=\"Times,serif\" font-size=\"14.00\">Div</text>\n",
       "</g>\n",
       "<!-- node_id 1&#45;&gt;node_id 3 -->\n",
       "<g id=\"edge3\" class=\"edge\">\n",
       "<title>node_id 1&#45;&gt;node_id 3</title>\n",
       "<path fill=\"none\" stroke=\"black\" d=\"M78.01,-144.76C82.61,-136.28 88.35,-125.71 93.52,-116.2\"/>\n",
       "<polygon fill=\"black\" stroke=\"black\" points=\"96.74,-117.61 98.43,-107.15 90.58,-114.27 96.74,-117.61\"/>\n",
       "</g>\n",
       "<!-- node_id 4 -->\n",
       "<g id=\"node5\" class=\"node\">\n",
       "<title>node_id 4</title>\n",
       "<ellipse fill=\"lightblue\" stroke=\"black\" cx=\"65.2\" cy=\"-18\" rx=\"34.39\" ry=\"18\"/>\n",
       "<text text-anchor=\"middle\" x=\"65.2\" y=\"-14.3\" font-family=\"Times,serif\" font-size=\"14.00\">close</text>\n",
       "</g>\n",
       "<!-- node_id 3&#45;&gt;node_id 4 -->\n",
       "<g id=\"edge4\" class=\"edge\">\n",
       "<title>node_id 3&#45;&gt;node_id 4</title>\n",
       "<path fill=\"none\" stroke=\"black\" d=\"M97.67,-73.12C92.53,-64.56 86.08,-53.8 80.28,-44.13\"/>\n",
       "<polygon fill=\"black\" stroke=\"black\" points=\"83.13,-42.08 74.98,-35.31 77.13,-45.68 83.13,-42.08\"/>\n",
       "</g>\n",
       "<!-- node_id 5 -->\n",
       "<g id=\"node6\" class=\"node\">\n",
       "<title>node_id 5</title>\n",
       "<ellipse fill=\"lightblue\" stroke=\"black\" cx=\"149.2\" cy=\"-18\" rx=\"31.4\" ry=\"18\"/>\n",
       "<text text-anchor=\"middle\" x=\"149.2\" y=\"-14.3\" font-family=\"Times,serif\" font-size=\"14.00\">10.0</text>\n",
       "</g>\n",
       "<!-- node_id 3&#45;&gt;node_id 5 -->\n",
       "<g id=\"edge5\" class=\"edge\">\n",
       "<title>node_id 3&#45;&gt;node_id 5</title>\n",
       "<path fill=\"none\" stroke=\"black\" d=\"M116.73,-73.12C121.86,-64.56 128.32,-53.8 134.12,-44.13\"/>\n",
       "<polygon fill=\"black\" stroke=\"black\" points=\"137.27,-45.68 139.41,-35.31 131.27,-42.08 137.27,-45.68\"/>\n",
       "</g>\n",
       "</g>\n",
       "</svg>\n"
      ],
      "text/plain": [
       "<graphviz.graphs.Digraph at 0x7f7e0b747040>"
      ]
     },
     "execution_count": 27,
     "metadata": {},
     "output_type": "execute_result"
    }
   ],
   "source": [
    "parse_formula(str(exprs[2]))"
   ]
  },
  {
   "cell_type": "code",
   "execution_count": 8,
   "id": "6ba3a57a-2960-4953-b953-17e26d396667",
   "metadata": {
    "execution": {
     "iopub.execute_input": "2024-03-27T08:45:33.132566Z",
     "iopub.status.busy": "2024-03-27T08:45:33.132400Z",
     "iopub.status.idle": "2024-03-27T08:45:34.690687Z",
     "shell.execute_reply": "2024-03-27T08:45:34.689709Z",
     "shell.execute_reply.started": "2024-03-27T08:45:33.132555Z"
    }
   },
   "outputs": [
    {
     "name": "stdout",
     "output_type": "stream",
     "text": [
      "0.053774625062942505 0.0695439800620079 -1.0\n",
      "0.0002364662359468639 -0.004390146117657423 -1.0\n",
      "0.10055819153785706 0.09568143635988235 -1.0\n",
      "-0.021620173007249832 -0.05434241145849228 -1.0\n",
      "-0.015248714946210384 -0.027920985594391823 1.0\n",
      "-0.010454361326992512 0.007562487851828337 1.0\n",
      "-0.021707573905587196 -0.02960374392569065 1.0\n",
      "0.021267680451273918 0.02664230205118656 -1.0\n",
      "0.01119352225214243 0.011984440498054028 -1.0\n",
      "0.020815495401620865 -0.0008561001741327345 -1.0\n",
      "0.016346506774425507 0.022320112213492393 -1.0\n",
      "0.026305725798010826 -5.8268156863050535e-05 -1.0\n",
      "-0.0045469980686903 0.006127635482698679 -1.0\n",
      "0.01218471024185419 0.009869174100458622 1.0\n",
      "-0.02406565472483635 -0.024513108655810356 -1.0\n",
      "0.023755915462970734 0.05634249374270439 1.0\n",
      "0.046185385435819626 0.04915844276547432 -1.0\n",
      "-0.01816524565219879 -0.023482728749513626 1.0\n",
      "-0.0069715967401862144 -0.009597526863217354 -1.0\n",
      "-0.02745891362428665 0.0031154847238212824 1.0\n",
      "-0.02500328980386257 -0.03548483923077583 1.0\n",
      "0.09119027853012085 0.0861043632030487 1.0\n"
     ]
    }
   ],
   "source": [
    "for expr, weight in zip(exprs, weights):\n",
    "    ic, rankic = calculator.calc_single_all_ret(expr)\n",
    "    sign = weight/abs(weight)\n",
    "    print(ic*sign, rankic*sign, sign)"
   ]
  },
  {
   "cell_type": "code",
   "execution_count": 9,
   "id": "31688ccf-2acc-42c2-bc31-709beed897ab",
   "metadata": {
    "execution": {
     "iopub.execute_input": "2024-03-27T08:45:34.692264Z",
     "iopub.status.busy": "2024-03-27T08:45:34.691671Z",
     "iopub.status.idle": "2024-03-27T08:45:34.785305Z",
     "shell.execute_reply": "2024-03-27T08:45:34.784539Z",
     "shell.execute_reply.started": "2024-03-27T08:45:34.692240Z"
    },
    "scrolled": true
   },
   "outputs": [
    {
     "data": {
      "text/plain": [
       "(0.09746228903532028, 0.09167450666427612)"
      ]
     },
     "execution_count": 9,
     "metadata": {},
     "output_type": "execute_result"
    }
   ],
   "source": [
    "calculator.calc_pool_all_ret(exprs, weights)"
   ]
  },
  {
   "cell_type": "markdown",
   "id": "7ebe0c84-1db2-4e3e-a515-f4514f622211",
   "metadata": {},
   "source": [
    "# IC曲线，累计收益曲线"
   ]
  },
  {
   "cell_type": "code",
   "execution_count": 10,
   "id": "dec054f1-98f0-4560-badc-ca87953902f8",
   "metadata": {
    "execution": {
     "iopub.execute_input": "2024-03-27T08:45:34.786717Z",
     "iopub.status.busy": "2024-03-27T08:45:34.786137Z",
     "iopub.status.idle": "2024-03-27T08:45:34.790424Z",
     "shell.execute_reply": "2024-03-27T08:45:34.789728Z",
     "shell.execute_reply.started": "2024-03-27T08:45:34.786695Z"
    }
   },
   "outputs": [],
   "source": [
    "# 计算相关系数\n",
    "def calculate_ic(tensor1, tensor2):\n",
    "    # 计算每行的相关系数\n",
    "    row_ic = np.array([np.corrcoef(row1, row2)[0, 1] for row1, row2 in zip(tensor1, tensor2)])\n",
    "    return row_ic"
   ]
  },
  {
   "cell_type": "code",
   "execution_count": 11,
   "id": "8613f86f-df63-4e89-84dd-01d6f4e8c660",
   "metadata": {
    "execution": {
     "iopub.execute_input": "2024-03-27T08:45:34.791580Z",
     "iopub.status.busy": "2024-03-27T08:45:34.791138Z",
     "iopub.status.idle": "2024-03-27T08:45:34.822271Z",
     "shell.execute_reply": "2024-03-27T08:45:34.821529Z",
     "shell.execute_reply.started": "2024-03-27T08:45:34.791566Z"
    }
   },
   "outputs": [],
   "source": [
    "factor = calculator.make_ensemble_alpha(exprs, weights)"
   ]
  },
  {
   "cell_type": "code",
   "execution_count": 12,
   "id": "d20f42b3-b5c7-4e93-836f-0847a880f48c",
   "metadata": {
    "execution": {
     "iopub.execute_input": "2024-03-27T08:45:34.823957Z",
     "iopub.status.busy": "2024-03-27T08:45:34.823316Z",
     "iopub.status.idle": "2024-03-27T08:45:34.827054Z",
     "shell.execute_reply": "2024-03-27T08:45:34.826336Z",
     "shell.execute_reply.started": "2024-03-27T08:45:34.823939Z"
    }
   },
   "outputs": [],
   "source": [
    "target_value = calculator.target_value"
   ]
  },
  {
   "cell_type": "code",
   "execution_count": 13,
   "id": "9b5fbbec-763e-4cb1-89e1-e184b57200d1",
   "metadata": {
    "execution": {
     "iopub.execute_input": "2024-03-27T08:45:34.828050Z",
     "iopub.status.busy": "2024-03-27T08:45:34.827814Z",
     "iopub.status.idle": "2024-03-27T08:45:35.301865Z",
     "shell.execute_reply": "2024-03-27T08:45:35.301138Z",
     "shell.execute_reply.started": "2024-03-27T08:45:34.828036Z"
    }
   },
   "outputs": [
    {
     "data": {
      "text/plain": [
       "<Axes: >"
      ]
     },
     "execution_count": 13,
     "metadata": {},
     "output_type": "execute_result"
    },
    {
     "data": {
      "image/png": "[encoded data removed]",
      "text/plain": [
       "<Figure size 640x480 with 1 Axes>"
      ]
     },
     "metadata": {},
     "output_type": "display_data"
    }
   ],
   "source": [
    "# 计算两个张量的IC\n",
    "ic_result = calculate_ic(factor.cpu().numpy(), target_value.cpu().numpy())\n",
    "pd.Series(ic_result).cumsum().plot()"
   ]
  },
  {
   "cell_type": "code",
   "execution_count": 14,
   "id": "455052ca-e8ec-4d46-9bb1-63f09d76fee3",
   "metadata": {
    "execution": {
     "iopub.execute_input": "2024-03-27T08:45:35.303420Z",
     "iopub.status.busy": "2024-03-27T08:45:35.302630Z",
     "iopub.status.idle": "2024-03-27T08:45:35.308047Z",
     "shell.execute_reply": "2024-03-27T08:45:35.307126Z",
     "shell.execute_reply.started": "2024-03-27T08:45:35.303394Z"
    }
   },
   "outputs": [],
   "source": [
    "def top_pct_mean(score, pct):\n",
    "    # 选择打分最高的n个标的计算收益率的均值\n",
    "    # probs = nn.functional.softmax(score, dim=1)\n",
    "    # score = probs[:, 1]\n",
    "    top_num = int(len(score) * 0.2)\n",
    "    id_col = torch.topk(score, k=top_num, dim=-1)[1]\n",
    "    id_row = torch.arange(0, score.shape[0]).tile(top_num,1).T\n",
    "    return pct[id_row, id_col].mean(dim=-1).cpu().numpy()"
   ]
  },
  {
   "cell_type": "code",
   "execution_count": 15,
   "id": "ad4a67bf-0e17-445f-9836-aaf57c0bcb0e",
   "metadata": {
    "execution": {
     "iopub.execute_input": "2024-03-27T08:45:35.309341Z",
     "iopub.status.busy": "2024-03-27T08:45:35.308865Z",
     "iopub.status.idle": "2024-03-27T08:45:35.334842Z",
     "shell.execute_reply": "2024-03-27T08:45:35.334229Z",
     "shell.execute_reply.started": "2024-03-27T08:45:35.309322Z"
    }
   },
   "outputs": [],
   "source": [
    "ret = top_pct_mean(factor, target_value)"
   ]
  },
  {
   "cell_type": "code",
   "execution_count": 16,
   "id": "ee377565-84c4-4ec0-b0d5-aaa749dea48b",
   "metadata": {
    "execution": {
     "iopub.execute_input": "2024-03-27T08:45:35.336372Z",
     "iopub.status.busy": "2024-03-27T08:45:35.335882Z",
     "iopub.status.idle": "2024-03-27T08:45:35.441658Z",
     "shell.execute_reply": "2024-03-27T08:45:35.441093Z",
     "shell.execute_reply.started": "2024-03-27T08:45:35.336351Z"
    }
   },
   "outputs": [
    {
     "data": {
      "text/plain": [
       "<Axes: >"
      ]
     },
     "execution_count": 16,
     "metadata": {},
     "output_type": "execute_result"
    },
    {
     "data": {
      "image/png": "[encoded data removed]",
      "text/plain": [
       "<Figure size 640x480 with 1 Axes>"
      ]
     },
     "metadata": {},
     "output_type": "display_data"
    }
   ],
   "source": [
    "pd.Series(ret).cumsum().plot()"
   ]
  },
  {
   "cell_type": "markdown",
   "id": "cde07506-126b-4670-b1ca-11e4f9aa12b5",
   "metadata": {
    "execution": {
     "iopub.execute_input": "2024-03-26T02:32:39.543473Z",
     "iopub.status.busy": "2024-03-26T02:32:39.542876Z",
     "iopub.status.idle": "2024-03-26T02:32:39.560620Z",
     "shell.execute_reply": "2024-03-26T02:32:39.559869Z",
     "shell.execute_reply.started": "2024-03-26T02:32:39.543447Z"
    }
   },
   "source": [
    "# validation的作用"
   ]
  },
  {
   "cell_type": "markdown",
   "id": "75d9d77b-3fce-4417-9be3-8deeffbc093a",
   "metadata": {},
   "source": [
    "# tensorboard"
   ]
  },
  {
   "cell_type": "code",
   "execution_count": 17,
   "id": "a0b7dc9e-1bfc-4f95-aab8-9753ca69cadc",
   "metadata": {
    "execution": {
     "iopub.execute_input": "2024-03-27T08:45:35.442646Z",
     "iopub.status.busy": "2024-03-27T08:45:35.442311Z",
     "iopub.status.idle": "2024-03-27T08:45:35.487396Z",
     "shell.execute_reply": "2024-03-27T08:45:35.486764Z",
     "shell.execute_reply.started": "2024-03-27T08:45:35.442634Z"
    }
   },
   "outputs": [
    {
     "data": {
      "text/plain": [
       "ERROR: Could not find `tensorboard`. Please ensure that your PATH\n",
       "contains an executable `tensorboard` program, or explicitly specify\n",
       "the path to a TensorBoard binary by setting the `TENSORBOARD_BINARY`\n",
       "environment variable."
      ]
     },
     "metadata": {},
     "output_type": "display_data"
    }
   ],
   "source": [
    "log_dir_path = os.path.expanduser('~/.project_results/alphagen/tb_log')\n",
    "%tensorboard --logdir $log_dir_path"
   ]
  },
  {
   "cell_type": "code",
   "execution_count": 18,
   "id": "535f673c-5242-4daf-b8a7-7cbf283f2a8c",
   "metadata": {
    "execution": {
     "iopub.execute_input": "2024-03-27T08:45:35.488736Z",
     "iopub.status.busy": "2024-03-27T08:45:35.488198Z",
     "iopub.status.idle": "2024-03-27T08:45:47.463793Z",
     "shell.execute_reply": "2024-03-27T08:45:47.463167Z",
     "shell.execute_reply.started": "2024-03-27T08:45:35.488718Z"
    }
   },
   "outputs": [
    {
     "data": {
      "text/plain": [
       "<Axes: xlabel='index'>"
      ]
     },
     "execution_count": 18,
     "metadata": {},
     "output_type": "execute_result"
    },
    {
     "data": {
      "image/png": "[encoded data removed]",
      "text/plain": [
       "<Figure size 640x480 with 1 Axes>"
      ]
     },
     "metadata": {},
     "output_type": "display_data"
    }
   ],
   "source": [
    "import pandas as pd\n",
    "res = []\n",
    "for file_name in os.listdir(trail_checkpoints_path): \n",
    "    if file_name.endswith('.json'):\n",
    "        params= {}\n",
    "        params['index'] = int(file_name.split('_')[0])\n",
    "        exprs, weights = get_pool(file_name)\n",
    "        params['ic'], params['rankic'] = calculator.calc_pool_all_ret(exprs, weights)\n",
    "        res.append(params)\n",
    "res = pd.DataFrame(res)\n",
    "res.set_index('index', inplace=True)\n",
    "res.sort_index(inplace=True)\n",
    "res.plot()       "
   ]
  },
  {
   "cell_type": "code",
   "execution_count": null,
   "id": "555df1cd-9f7e-4456-acbc-bbc31da0f54b",
   "metadata": {},
   "outputs": [],
   "source": []
  }
 ],
 "metadata": {
  "kernelspec": {
   "display_name": "qlib",
   "language": "python",
   "name": "qlib"
  },
  "language_info": {
   "codemirror_mode": {
    "name": "ipython",
    "version": 3
   },
   "file_extension": ".py",
   "mimetype": "text/x-python",
   "name": "python",
   "nbconvert_exporter": "python",
   "pygments_lexer": "ipython3",
   "version": "3.8.19"
  }
 },
 "nbformat": 4,
 "nbformat_minor": 5
}
